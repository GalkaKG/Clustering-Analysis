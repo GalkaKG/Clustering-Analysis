{
 "cells": [
  {
   "cell_type": "code",
   "execution_count": null,
   "id": "b85b276f-d8a9-40c4-a21f-0f61b8061b52",
   "metadata": {},
   "outputs": [],
   "source": [
    "from IPython.display import YouTubeVideo, HTML, display"
   ]
  },
  {
   "cell_type": "markdown",
   "id": "05919e9e-2de0-4a70-bb76-39e6f17d76ed",
   "metadata": {},
   "source": [
    "# What is cluster analysis?"
   ]
  },
  {
   "cell_type": "markdown",
   "id": "a624e2a9-e981-4ab2-9055-925d15a450b0",
   "metadata": {},
   "source": [
    "![Alt text](https://github.com/GalkaKG/Clustering-Analysis/blob/main/images/cluster.png?raw=true)"
   ]
  },
  {
   "cell_type": "markdown",
   "id": "b228d600-1c9f-404e-91dc-28bd618517dc",
   "metadata": {},
   "source": [
    "Cluster analysis, in general, is a statistical technique that organizes and classifies different objects, data points, or observations into groups or clusters based on similarities or patterns.\n",
    "\n",
    "You can think of cluster analysis as finding natural groups in the data.\n",
    "\n",
    "Cluster analysis refers to a family of algorithms and tasks rather than one specific algorithm. It can be achieved by various algorithms that differ significantly in their understanding of what constitutes a cluster and how to efficiently find them. Popular notions of clusters include groups with small distances between cluster members, dense areas of the data space, intervals or particular statistical distributions. Clustering can therefore be formulated as a multi-objective optimization problem. The appropriate clustering algorithm and parameter settings (including parameters such as the distance function to use, a density threshold or the number of expected clusters) depend on the individual data set and intended use of the results. Cluster analysis as such is not an automatic task, but an iterative process of knowledge discovery or interactive multi-objective optimization that involves trial and failure. It is often necessary to modify data preprocessing and model parameters until the result achieves the desired properties.\n",
    "\n",
    "Besides the term clustering, there is a number of terms with similar meanings, including automatic classification, numerical taxonomy, botryology (from Greek: βότρυς 'grape'), typological analysis, and community detection. \n",
    "\n",
    "Cluster analysis was originated in anthropology by Driver and Kroeber in 1932 and introduced to psychology by Joseph Zubin in 1938 and Robert Tryon in 1939 and famously used by Cattell beginning in 1943 for trait theory classification in personality psychology.\n"
   ]
  },
  {
   "cell_type": "markdown",
   "id": "18be7245-771f-45f3-b92e-5cea812ce068",
   "metadata": {},
   "source": [
    "### Unsupervised learning\n",
    "also known as unsupervised machine learning, uses machine learning (ML) algorithms to analyze and cluster unlabeled data sets. These algorithms discover hidden patterns or data groupings without the need for human intervention.\n",
    "\n",
    "Unsupervised learning models don't need supervision while training data sets, making it an ideal ML technique for discovering patterns, groupings and differences in unstructured data. It's well-suited for processes such as customer segmentation, exploratory data analysis or image recognition.\n",
    "\n",
    "Unsupervised learning algorithms can classify, label and group the data points contained within data sets without requiring any external guidance in performing that task. In other words, unsupervised learning allows a system to identify patterns within data sets on its own.\n",
    "\n",
    "In unsupervised learning, an AI system groups unsorted information according to similarities and differences even though no categories are provided.\n",
    "\n",
    "#### How unsupervised learning works?\n",
    "Unsupervised learning starts when machine learning engineers or data scientists pass data sets through algorithms to train them. There are no labels or categories contained within the data sets being used to train such systems; each piece of data that's being passed through the algorithms during training is an unlabeled input object or sample.\n",
    "\n",
    "The objective of unsupervised learning is to have the algorithms identify patterns within the training data sets and categorize the input objects based on the patterns the system itself identifies. The algorithms analyze the underlying structure of the data sets by extracting useful information or features from them. Thus, these algorithms are expected to develop specific outputs by looking for relationships between each sample or input object.\n",
    "\n",
    "For example, unsupervised learning algorithms might be given data sets containing images of animals. The algorithms can classify the animals into categories such as those with fur, those with scales and those with feathers. The algorithms then group the images into increasingly more specific subgroups as they learn to identify distinctions within each category.\n",
    "\n",
    "The algorithms do this by uncovering and identifying patterns. In unsupervised learning, pattern recognition happens without the system having been fed data that teaches it to distinguish specific categories.\n",
    "\n",
    "Here is **[a link](https://www.youtube.com/watch?v=rHeaoaiBM6Y)** where you can watch a video that shows up the difference between supervised and unsupervised learning.\n",
    "\n"
   ]
  },
  {
   "cell_type": "markdown",
   "id": "1f6a549b-0fbf-446e-bb17-570888e0e04b",
   "metadata": {},
   "source": [
    "<!-- video = YouTubeVideo(\"rHeaoaiBM6Y\")\n",
    "display(video) -->\r\n",
    "<!-- <video width=\"320\" height=\"240\" controls \r\n",
    "        src=http://techslides.com/demos/sample-videos/small.webm \r\n",
    "        type=video/webm> \r\n",
    "</vid -->\n",
    "\n",
    "![Video](https://www.youtube.com/watch?v=rHeaoaiBM6Y)\r\n",
    "eo>"
   ]
  },
  {
   "cell_type": "markdown",
   "id": "39783008-f7e7-4ebf-b6b4-bf92e58c6645",
   "metadata": {},
   "source": [
    "The notion of a **\"cluster\"** cannot be precisely defined, which is one of the reasons why there are so many clustering algorithms. There is a common denominator: a group of data objects. However, different researchers employ different cluster models, and for each of these cluster models again different algorithms can be given. The notion of a cluster, as found by different algorithms, varies significantly in its properties. Understanding these **\"cluster models\"** is key to understanding the differences between the various algorithms. Typical cluster models include:\n",
    "\n",
    " - Connectivity models: for example, hierarchical clustering builds models based on distance connectivity.\n",
    " - Centroid models: for example, the k-means algorithm represents each cluster by a single mean vector.\n",
    " - Distribution models: clusters are modeled using statistical distributions, such as multivariate normal distributions used by the expectation-maximization algorithm.\n",
    " - Density models: for example, DBSCAN and OPTICS defines clusters as connected dense regions in the data space.\n",
    " - Subspace models: in biclustering (also known as co-clustering or two-mode-clustering), clusters are modeled with both cluster members and relevant attributes.\n",
    " - Group models: some algorithms do not provide a refined model for their results and just provide the grouping information.\n",
    " - Graph-based models: a clique, that is, a subset of nodes in a graph such that every two nodes in the subset are connected by an edge can be considered as a prototypical form of cluster. Relaxations of the complete connectivity requirement (a fraction of the edges can be missing) are known as quasi-cliques, as in the HCS clustering algorithm.\n",
    " - Signed graph models: Every path in a signed graph has a sign from the product of the signs on the edges. Under the assumptions of balance theory, edges may change sign and result in a bifurcated graph. The weaker \"clusterability axiom\" (no cycle has exactly one negative edge) yields results with more than two clusters, or subgraphs with only positive edges.\n",
    "- Neural models: the most well-known unsupervised neural network is the self-organizing map and these models can usually be characterized as similar to one or more of the above models, and including subspace models when neural networks implement a form of Principal Component Analysis or Independent Component Analysis. Analysis."
   ]
  }
 ],
 "metadata": {
  "kernelspec": {
   "display_name": "Python 3 (ipykernel)",
   "language": "python",
   "name": "python3"
  },
  "language_info": {
   "name": ""
  }
 },
 "nbformat": 4,
 "nbformat_minor": 5
}
