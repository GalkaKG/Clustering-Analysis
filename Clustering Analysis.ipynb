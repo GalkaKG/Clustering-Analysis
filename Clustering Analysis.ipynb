{
 "cells": [
  {
   "cell_type": "markdown",
   "id": "05919e9e-2de0-4a70-bb76-39e6f17d76ed",
   "metadata": {},
   "source": [
    "# What is cluster analysis?"
   ]
  },
  {
   "cell_type": "markdown",
   "id": "a624e2a9-e981-4ab2-9055-925d15a450b0",
   "metadata": {},
   "source": [
    "![Alt text](https://github.com/GalkaKG/Clustering-Analysis/blob/main/images/cluster.png?raw=true)"
   ]
  }
 ],
 "metadata": {
  "kernelspec": {
   "display_name": "Python 3 (ipykernel)",
   "language": "python",
   "name": "python3"
  },
  "language_info": {
   "name": ""
  }
 },
 "nbformat": 4,
 "nbformat_minor": 5
}
